{
 "cells": [
  {
   "cell_type": "code",
   "execution_count": 1,
   "id": "bb7897f3",
   "metadata": {},
   "outputs": [],
   "source": [
    "import pandas as pd\n",
    "import numpy as np\n",
    "import math\n",
    "import sys\n",
    "import os\n",
    "from IPython.display import display\n",
    "\n",
    "from scipy.stats import wilcoxon, friedmanchisquare, rankdata\n",
    "from Orange.evaluation import compute_CD, graph_ranks"
   ]
  },
  {
   "cell_type": "code",
   "execution_count": 2,
   "id": "1f82c15e",
   "metadata": {},
   "outputs": [],
   "source": [
    "from itertools import combinations\n",
    "\n",
    "measures = ['ratio_selection_rate', 'ratio_recall', 'ratio_odds']\n",
    "\n",
    "def multicriteria(measurement_values):\n",
    "    pairs = list(combinations(measurement_values, 2))\n",
    "    area = 0\n",
    "    for a, b in pairs:\n",
    "        area += (a*b*math.sin((2*math.pi)/3)/2)    \n",
    "    return area\n",
    "\n",
    "def multicriteria_validation(validation):\n",
    "    matrix = validation[measures].to_numpy()\n",
    "    validation['multicriteria'] = [multicriteria(row) for row in matrix]\n",
    "    return validation"
   ]
  },
  {
   "cell_type": "code",
   "execution_count": 3,
   "id": "5a9d5975",
   "metadata": {},
   "outputs": [],
   "source": [
    "def report(measure):\n",
    "\n",
    "    results_valid = pd.DataFrame(columns = ['Dataset', 'Config', 'Without', 'DIF-SR(CART)', 'DIF-SR(KNN)',\n",
    "                                            'DIF-SR(MLP)', 'Reweighing'])\n",
    "    results_test = pd.DataFrame(columns = ['Dataset', 'Config',  'Without', 'DIF-SR(CART)', 'DIF-SR(KNN)',\n",
    "                                            'DIF-SR(MLP)', 'Reweighing'])\n",
    "    f1 = pd.DataFrame(columns = ['Dataset', 'Config',  'Without', 'DIF-SR(CART)', 'DIF-SR(KNN)',\n",
    "                                 'DIF-SR(MLP)', 'Reweighing'])\n",
    "    count = 0\n",
    "\n",
    "    for name in ['adult', 'arrhythmia', 'bank', 'compasmen', 'compaswomen', 'contraceptive', 'crack', \n",
    "                 'german', 'heart', 'heroin', 'student', 'titanic']:\n",
    "        for config in ['ada', 'dt', 'rf', 'svm', 'xgb']:\n",
    "            ''' abre os resultados '''\n",
    "            if os.path.exists('../Experiments/' + name + '_' + config + '_validation.csv'):\n",
    "                validation = pd.read_csv('../Experiments/' + name + '_' + config + '_validation.csv', \n",
    "                                         sep=';', index_col=0) \n",
    "                test = pd.read_csv('../Experiments/' + name + '_' + config + '_test.csv', \n",
    "                                   sep=';', index_col=0)\n",
    "                ''' Calculate ratio odds '''\n",
    "                validation['ratio_odds'] = (validation['ratio_fpr'] + validation['ratio_recall'])/2\n",
    "                test['ratio_odds'] = (test['ratio_fpr'] + test['ratio_recall'])/2\n",
    "                ''' Calculate multicriteria '''\n",
    "                validation = multicriteria_validation(validation)\n",
    "                test = multicriteria_validation(test)\n",
    "\n",
    "                values_valid = []\n",
    "                values_valid.append(name)\n",
    "                values_valid.append(config)\n",
    "\n",
    "                values_test = []\n",
    "                values_test.append(name)\n",
    "                values_test.append(config)\n",
    "                \n",
    "                values_f1 = []\n",
    "                values_f1.append(name)\n",
    "                values_f1.append(config)\n",
    "\n",
    "                for preprocessing in ['without', 'dif_dt', 'dif_knn', 'dif_mlp', 'reweighing']:\n",
    "\n",
    "                    aux_validation = validation.loc[validation['preprocessing'] == preprocessing].copy()\n",
    "                    aux_validation = aux_validation.sort_values(by=['clf_name'])\n",
    "                    aux_validation = aux_validation.reset_index()\n",
    "\n",
    "                    aux_test = test.loc[test['preprocessing'] == preprocessing].copy()\n",
    "                    aux_test = aux_test.sort_values(by=['clf_name'])\n",
    "                    aux_test = aux_test.reset_index()\n",
    "\n",
    "                    idx = aux_validation[measure].idxmax()\n",
    "                    values_valid.append(aux_validation.loc[idx, measure])\n",
    "                    values_test.append(aux_test.loc[idx, measure])\n",
    "                    values_f1.append(aux_test.loc[idx, 'f1_macro'])\n",
    "                    \n",
    "                \n",
    "                results_valid.loc[count] = values_valid\n",
    "                results_test.loc[count] = values_test\n",
    "                f1.loc[count] = values_f1\n",
    "                count += 1\n",
    "                \n",
    "    return results_valid, results_test, f1"
   ]
  },
  {
   "cell_type": "code",
   "execution_count": 6,
   "id": "ff1b7036",
   "metadata": {},
   "outputs": [],
   "source": [
    "def cd(results, conjunto):\n",
    "    df = results[['Without', 'DIF-SR(CART)', 'DIF-SR(KNN)', 'DIF-SR(MLP)', 'Reweighing']]\n",
    "    algorithms_names = df.columns\n",
    "    results_array = df.values\n",
    "\n",
    "    ranks_test = np.array([rankdata(-p) for p in results_array])\n",
    "    average_ranks = np.mean(ranks_test, axis=0)\n",
    "    print('\\n'.join('({}) Rank average: {}'.format(a, r) for a, r in zip(algorithms_names, average_ranks)))\n",
    "    \n",
    "    # This method computes the critical difference for Nemenyi test\n",
    "    cd = compute_CD(average_ranks, n=len(df), alpha='0.05', test='nemenyi')\n",
    "    print('CD = ', cd)\n",
    "    # This method generates the plot.\n",
    "    graph_ranks(average_ranks, names=algorithms_names, cd=cd, width=4, textspace=1.25, reverse=False, \n",
    "                filename = conjunto + '.pdf')"
   ]
  },
  {
   "cell_type": "markdown",
   "id": "60b75e39",
   "metadata": {},
   "source": [
    "## Multicriteria (Demographic Parity, Equal Opportunity, Equalized Odds)"
   ]
  },
  {
   "cell_type": "code",
   "execution_count": 7,
   "id": "7e4085d8",
   "metadata": {},
   "outputs": [
    {
     "name": "stderr",
     "output_type": "stream",
     "text": [
      "/tmp/ipykernel_43725/2091123629.py:3: FutureWarning: The default value of numeric_only in DataFrameGroupBy.mean is deprecated. In a future version, numeric_only will default to False. Either specify numeric_only or select only columns which should be valid for the function.\n",
      "  test.groupby(by='Dataset').mean().round(decimals=2)\n"
     ]
    },
    {
     "data": {
      "text/html": [
       "<div>\n",
       "<style scoped>\n",
       "    .dataframe tbody tr th:only-of-type {\n",
       "        vertical-align: middle;\n",
       "    }\n",
       "\n",
       "    .dataframe tbody tr th {\n",
       "        vertical-align: top;\n",
       "    }\n",
       "\n",
       "    .dataframe thead th {\n",
       "        text-align: right;\n",
       "    }\n",
       "</style>\n",
       "<table border=\"1\" class=\"dataframe\">\n",
       "  <thead>\n",
       "    <tr style=\"text-align: right;\">\n",
       "      <th></th>\n",
       "      <th>Without</th>\n",
       "      <th>DIF-SR(CART)</th>\n",
       "      <th>DIF-SR(KNN)</th>\n",
       "      <th>DIF-SR(MLP)</th>\n",
       "      <th>Reweighing</th>\n",
       "    </tr>\n",
       "    <tr>\n",
       "      <th>Dataset</th>\n",
       "      <th></th>\n",
       "      <th></th>\n",
       "      <th></th>\n",
       "      <th></th>\n",
       "      <th></th>\n",
       "    </tr>\n",
       "  </thead>\n",
       "  <tbody>\n",
       "    <tr>\n",
       "      <th>adult</th>\n",
       "      <td>0.39</td>\n",
       "      <td>0.50</td>\n",
       "      <td>0.58</td>\n",
       "      <td>0.59</td>\n",
       "      <td>0.49</td>\n",
       "    </tr>\n",
       "    <tr>\n",
       "      <th>arrhythmia</th>\n",
       "      <td>0.71</td>\n",
       "      <td>0.53</td>\n",
       "      <td>1.02</td>\n",
       "      <td>0.62</td>\n",
       "      <td>0.87</td>\n",
       "    </tr>\n",
       "    <tr>\n",
       "      <th>bank</th>\n",
       "      <td>0.58</td>\n",
       "      <td>0.59</td>\n",
       "      <td>0.63</td>\n",
       "      <td>0.66</td>\n",
       "      <td>0.75</td>\n",
       "    </tr>\n",
       "    <tr>\n",
       "      <th>compasmen</th>\n",
       "      <td>0.77</td>\n",
       "      <td>1.14</td>\n",
       "      <td>1.17</td>\n",
       "      <td>1.12</td>\n",
       "      <td>0.83</td>\n",
       "    </tr>\n",
       "    <tr>\n",
       "      <th>compaswomen</th>\n",
       "      <td>0.89</td>\n",
       "      <td>1.16</td>\n",
       "      <td>1.09</td>\n",
       "      <td>1.00</td>\n",
       "      <td>0.88</td>\n",
       "    </tr>\n",
       "    <tr>\n",
       "      <th>contraceptive</th>\n",
       "      <td>1.11</td>\n",
       "      <td>1.00</td>\n",
       "      <td>0.79</td>\n",
       "      <td>0.79</td>\n",
       "      <td>1.12</td>\n",
       "    </tr>\n",
       "    <tr>\n",
       "      <th>crack</th>\n",
       "      <td>0.45</td>\n",
       "      <td>0.46</td>\n",
       "      <td>0.36</td>\n",
       "      <td>0.81</td>\n",
       "      <td>0.05</td>\n",
       "    </tr>\n",
       "    <tr>\n",
       "      <th>german</th>\n",
       "      <td>0.89</td>\n",
       "      <td>0.94</td>\n",
       "      <td>0.66</td>\n",
       "      <td>0.89</td>\n",
       "      <td>0.97</td>\n",
       "    </tr>\n",
       "    <tr>\n",
       "      <th>heart</th>\n",
       "      <td>0.51</td>\n",
       "      <td>0.62</td>\n",
       "      <td>0.67</td>\n",
       "      <td>0.75</td>\n",
       "      <td>0.55</td>\n",
       "    </tr>\n",
       "    <tr>\n",
       "      <th>heroin</th>\n",
       "      <td>0.34</td>\n",
       "      <td>0.57</td>\n",
       "      <td>0.63</td>\n",
       "      <td>0.63</td>\n",
       "      <td>0.24</td>\n",
       "    </tr>\n",
       "    <tr>\n",
       "      <th>student</th>\n",
       "      <td>1.08</td>\n",
       "      <td>1.10</td>\n",
       "      <td>1.14</td>\n",
       "      <td>1.03</td>\n",
       "      <td>1.12</td>\n",
       "    </tr>\n",
       "    <tr>\n",
       "      <th>titanic</th>\n",
       "      <td>0.15</td>\n",
       "      <td>0.44</td>\n",
       "      <td>0.39</td>\n",
       "      <td>0.54</td>\n",
       "      <td>0.34</td>\n",
       "    </tr>\n",
       "  </tbody>\n",
       "</table>\n",
       "</div>"
      ],
      "text/plain": [
       "               Without  DIF-SR(CART)  DIF-SR(KNN)  DIF-SR(MLP)  Reweighing\n",
       "Dataset                                                                   \n",
       "adult             0.39          0.50         0.58         0.59        0.49\n",
       "arrhythmia        0.71          0.53         1.02         0.62        0.87\n",
       "bank              0.58          0.59         0.63         0.66        0.75\n",
       "compasmen         0.77          1.14         1.17         1.12        0.83\n",
       "compaswomen       0.89          1.16         1.09         1.00        0.88\n",
       "contraceptive     1.11          1.00         0.79         0.79        1.12\n",
       "crack             0.45          0.46         0.36         0.81        0.05\n",
       "german            0.89          0.94         0.66         0.89        0.97\n",
       "heart             0.51          0.62         0.67         0.75        0.55\n",
       "heroin            0.34          0.57         0.63         0.63        0.24\n",
       "student           1.08          1.10         1.14         1.03        1.12\n",
       "titanic           0.15          0.44         0.39         0.54        0.34"
      ]
     },
     "execution_count": 7,
     "metadata": {},
     "output_type": "execute_result"
    }
   ],
   "source": [
    "validation, test, f1 = report('multicriteria')\n",
    "#mostrar por algoritmo pro antonio\n",
    "test.groupby(by='Dataset').mean().round(decimals=2)"
   ]
  },
  {
   "cell_type": "code",
   "execution_count": 8,
   "id": "d2962b27",
   "metadata": {},
   "outputs": [
    {
     "name": "stderr",
     "output_type": "stream",
     "text": [
      "/tmp/ipykernel_43725/238434877.py:1: FutureWarning: The default value of numeric_only in DataFrameGroupBy.std is deprecated. In a future version, numeric_only will default to False. Either specify numeric_only or select only columns which should be valid for the function.\n",
      "  test.groupby(by='Dataset').std().round(decimals=2)\n"
     ]
    },
    {
     "data": {
      "text/html": [
       "<div>\n",
       "<style scoped>\n",
       "    .dataframe tbody tr th:only-of-type {\n",
       "        vertical-align: middle;\n",
       "    }\n",
       "\n",
       "    .dataframe tbody tr th {\n",
       "        vertical-align: top;\n",
       "    }\n",
       "\n",
       "    .dataframe thead th {\n",
       "        text-align: right;\n",
       "    }\n",
       "</style>\n",
       "<table border=\"1\" class=\"dataframe\">\n",
       "  <thead>\n",
       "    <tr style=\"text-align: right;\">\n",
       "      <th></th>\n",
       "      <th>Without</th>\n",
       "      <th>DIF-SR(CART)</th>\n",
       "      <th>DIF-SR(KNN)</th>\n",
       "      <th>DIF-SR(MLP)</th>\n",
       "      <th>Reweighing</th>\n",
       "    </tr>\n",
       "    <tr>\n",
       "      <th>Dataset</th>\n",
       "      <th></th>\n",
       "      <th></th>\n",
       "      <th></th>\n",
       "      <th></th>\n",
       "      <th></th>\n",
       "    </tr>\n",
       "  </thead>\n",
       "  <tbody>\n",
       "    <tr>\n",
       "      <th>adult</th>\n",
       "      <td>0.03</td>\n",
       "      <td>0.11</td>\n",
       "      <td>0.11</td>\n",
       "      <td>0.08</td>\n",
       "      <td>0.06</td>\n",
       "    </tr>\n",
       "    <tr>\n",
       "      <th>arrhythmia</th>\n",
       "      <td>0.07</td>\n",
       "      <td>0.32</td>\n",
       "      <td>0.24</td>\n",
       "      <td>0.11</td>\n",
       "      <td>0.12</td>\n",
       "    </tr>\n",
       "    <tr>\n",
       "      <th>bank</th>\n",
       "      <td>0.06</td>\n",
       "      <td>0.12</td>\n",
       "      <td>0.09</td>\n",
       "      <td>0.15</td>\n",
       "      <td>0.08</td>\n",
       "    </tr>\n",
       "    <tr>\n",
       "      <th>compasmen</th>\n",
       "      <td>0.09</td>\n",
       "      <td>0.08</td>\n",
       "      <td>0.14</td>\n",
       "      <td>0.13</td>\n",
       "      <td>0.11</td>\n",
       "    </tr>\n",
       "    <tr>\n",
       "      <th>compaswomen</th>\n",
       "      <td>0.44</td>\n",
       "      <td>0.10</td>\n",
       "      <td>0.13</td>\n",
       "      <td>0.16</td>\n",
       "      <td>0.33</td>\n",
       "    </tr>\n",
       "    <tr>\n",
       "      <th>contraceptive</th>\n",
       "      <td>0.07</td>\n",
       "      <td>0.20</td>\n",
       "      <td>0.42</td>\n",
       "      <td>0.45</td>\n",
       "      <td>0.04</td>\n",
       "    </tr>\n",
       "    <tr>\n",
       "      <th>crack</th>\n",
       "      <td>0.51</td>\n",
       "      <td>0.42</td>\n",
       "      <td>0.42</td>\n",
       "      <td>0.49</td>\n",
       "      <td>0.06</td>\n",
       "    </tr>\n",
       "    <tr>\n",
       "      <th>german</th>\n",
       "      <td>0.23</td>\n",
       "      <td>0.21</td>\n",
       "      <td>0.37</td>\n",
       "      <td>0.25</td>\n",
       "      <td>0.20</td>\n",
       "    </tr>\n",
       "    <tr>\n",
       "      <th>heart</th>\n",
       "      <td>0.22</td>\n",
       "      <td>0.38</td>\n",
       "      <td>0.27</td>\n",
       "      <td>0.33</td>\n",
       "      <td>0.04</td>\n",
       "    </tr>\n",
       "    <tr>\n",
       "      <th>heroin</th>\n",
       "      <td>0.23</td>\n",
       "      <td>0.26</td>\n",
       "      <td>0.40</td>\n",
       "      <td>0.43</td>\n",
       "      <td>0.18</td>\n",
       "    </tr>\n",
       "    <tr>\n",
       "      <th>student</th>\n",
       "      <td>0.16</td>\n",
       "      <td>0.12</td>\n",
       "      <td>0.10</td>\n",
       "      <td>0.20</td>\n",
       "      <td>0.11</td>\n",
       "    </tr>\n",
       "    <tr>\n",
       "      <th>titanic</th>\n",
       "      <td>0.02</td>\n",
       "      <td>0.49</td>\n",
       "      <td>0.28</td>\n",
       "      <td>0.28</td>\n",
       "      <td>0.22</td>\n",
       "    </tr>\n",
       "  </tbody>\n",
       "</table>\n",
       "</div>"
      ],
      "text/plain": [
       "               Without  DIF-SR(CART)  DIF-SR(KNN)  DIF-SR(MLP)  Reweighing\n",
       "Dataset                                                                   \n",
       "adult             0.03          0.11         0.11         0.08        0.06\n",
       "arrhythmia        0.07          0.32         0.24         0.11        0.12\n",
       "bank              0.06          0.12         0.09         0.15        0.08\n",
       "compasmen         0.09          0.08         0.14         0.13        0.11\n",
       "compaswomen       0.44          0.10         0.13         0.16        0.33\n",
       "contraceptive     0.07          0.20         0.42         0.45        0.04\n",
       "crack             0.51          0.42         0.42         0.49        0.06\n",
       "german            0.23          0.21         0.37         0.25        0.20\n",
       "heart             0.22          0.38         0.27         0.33        0.04\n",
       "heroin            0.23          0.26         0.40         0.43        0.18\n",
       "student           0.16          0.12         0.10         0.20        0.11\n",
       "titanic           0.02          0.49         0.28         0.28        0.22"
      ]
     },
     "execution_count": 8,
     "metadata": {},
     "output_type": "execute_result"
    }
   ],
   "source": [
    "test.groupby(by='Dataset').std().round(decimals=2)"
   ]
  },
  {
   "cell_type": "code",
   "execution_count": 9,
   "id": "cf202b39",
   "metadata": {},
   "outputs": [
    {
     "name": "stderr",
     "output_type": "stream",
     "text": [
      "/tmp/ipykernel_43725/3210981437.py:1: FutureWarning: The default value of numeric_only in DataFrame.mean is deprecated. In a future version, it will default to False. In addition, specifying 'numeric_only=None' is deprecated. Select only valid columns or specify the value of numeric_only to silence this warning.\n",
      "  test.mean().round(decimals=2)\n"
     ]
    },
    {
     "data": {
      "text/plain": [
       "Without         0.65\n",
       "DIF-SR(CART)    0.75\n",
       "DIF-SR(KNN)     0.76\n",
       "DIF-SR(MLP)     0.78\n",
       "Reweighing      0.68\n",
       "dtype: float64"
      ]
     },
     "execution_count": 9,
     "metadata": {},
     "output_type": "execute_result"
    }
   ],
   "source": [
    "test.mean().round(decimals=2)"
   ]
  },
  {
   "cell_type": "code",
   "execution_count": 10,
   "id": "2980dc4f",
   "metadata": {},
   "outputs": [
    {
     "name": "stderr",
     "output_type": "stream",
     "text": [
      "/tmp/ipykernel_43725/492759199.py:1: FutureWarning: The default value of numeric_only in DataFrame.std is deprecated. In a future version, it will default to False. In addition, specifying 'numeric_only=None' is deprecated. Select only valid columns or specify the value of numeric_only to silence this warning.\n",
      "  test.std().round(decimals=2)\n"
     ]
    },
    {
     "data": {
      "text/plain": [
       "Without         0.36\n",
       "DIF-SR(CART)    0.37\n",
       "DIF-SR(KNN)     0.37\n",
       "DIF-SR(MLP)     0.32\n",
       "Reweighing      0.36\n",
       "dtype: float64"
      ]
     },
     "execution_count": 10,
     "metadata": {},
     "output_type": "execute_result"
    }
   ],
   "source": [
    "test.std().round(decimals=2)"
   ]
  },
  {
   "cell_type": "code",
   "execution_count": 11,
   "id": "adbf48c0",
   "metadata": {},
   "outputs": [
    {
     "name": "stderr",
     "output_type": "stream",
     "text": [
      "/tmp/ipykernel_43725/1082393728.py:1: FutureWarning: The default value of numeric_only in DataFrameGroupBy.mean is deprecated. In a future version, numeric_only will default to False. Either specify numeric_only or select only columns which should be valid for the function.\n",
      "  cd(validation.groupby(by='Dataset').mean(), 'cd_av_multicriteria_validation')\n"
     ]
    },
    {
     "name": "stdout",
     "output_type": "stream",
     "text": [
      "(Without) Rank average: 4.166666666666667\n",
      "(DIF-SR(CART)) Rank average: 2.75\n",
      "(DIF-SR(KNN)) Rank average: 2.4166666666666665\n",
      "(DIF-SR(MLP)) Rank average: 2.4166666666666665\n",
      "(Reweighing) Rank average: 3.25\n",
      "CD =  1.7607705457029317\n"
     ]
    },
    {
     "data": {
      "image/png": "[encoded data removed]",
      "text/plain": [
       "<Figure size 400x165 with 1 Axes>"
      ]
     },
     "metadata": {},
     "output_type": "display_data"
    }
   ],
   "source": [
    "cd(validation.groupby(by='Dataset').mean(), 'cd_av_multicriteria_validation')"
   ]
  },
  {
   "cell_type": "code",
   "execution_count": 12,
   "id": "a39cbd7d",
   "metadata": {},
   "outputs": [
    {
     "name": "stdout",
     "output_type": "stream",
     "text": [
      "(Without) Rank average: 4.0\n",
      "(DIF-SR(CART)) Rank average: 2.75\n",
      "(DIF-SR(KNN)) Rank average: 2.5\n",
      "(DIF-SR(MLP)) Rank average: 2.5833333333333335\n",
      "(Reweighing) Rank average: 3.1666666666666665\n",
      "CD =  1.7607705457029317\n"
     ]
    },
    {
     "name": "stderr",
     "output_type": "stream",
     "text": [
      "/tmp/ipykernel_43725/3509805831.py:1: FutureWarning: The default value of numeric_only in DataFrameGroupBy.mean is deprecated. In a future version, numeric_only will default to False. Either specify numeric_only or select only columns which should be valid for the function.\n",
      "  cd(test.groupby(by='Dataset').mean(), 'cd_av_multicriteria_test')\n"
     ]
    },
    {
     "data": {
      "image/png": "[encoded data removed]",
      "text/plain": [
       "<Figure size 400x165 with 1 Axes>"
      ]
     },
     "metadata": {},
     "output_type": "display_data"
    }
   ],
   "source": [
    "cd(test.groupby(by='Dataset').mean(), 'cd_av_multicriteria_test')"
   ]
  },
  {
   "cell_type": "code",
   "execution_count": null,
   "id": "c3aea232",
   "metadata": {},
   "outputs": [],
   "source": []
  }
 ],
 "metadata": {
  "kernelspec": {
   "display_name": "Python 3 (ipykernel)",
   "language": "python",
   "name": "python3"
  },
  "language_info": {
   "codemirror_mode": {
    "name": "ipython",
    "version": 3
   },
   "file_extension": ".py",
   "mimetype": "text/x-python",
   "name": "python",
   "nbconvert_exporter": "python",
   "pygments_lexer": "ipython3",
   "version": "3.8.10"
  }
 },
 "nbformat": 4,
 "nbformat_minor": 5
}
